{
 "cells": [
  {
   "cell_type": "code",
   "execution_count": 1,
   "metadata": {},
   "outputs": [],
   "source": [
    "import frame_extractor"
   ]
  },
  {
   "cell_type": "code",
   "execution_count": 2,
   "metadata": {},
   "outputs": [
    {
     "data": {
      "text/html": [
       "\n",
       "    <style>\n",
       "        .invalid-path > input {\n",
       "            color: red !important;\n",
       "        }\n",
       "        \n",
       "        .plot-fullsize img {\n",
       "            width: auto;\n",
       "            height: calc(100% - 20px);\n",
       "        }\n",
       "        \n",
       "        .plot-fullsize div:not(.jp-OutputArea-prompt) {\n",
       "            width: auto;\n",
       "            height: 100%;\n",
       "        }\n",
       "        \n",
       "        .jp-RenderedImage {\n",
       "            display: flex;\n",
       "            justify-content: center;\n",
       "            align-items: center;\n",
       "        }\n",
       "    </style>\n",
       "    "
      ],
      "text/plain": [
       "<IPython.core.display.HTML object>"
      ]
     },
     "metadata": {},
     "output_type": "display_data"
    },
    {
     "data": {
      "application/vnd.jupyter.widget-view+json": {
       "model_id": "4396eca280cc48ebbb9f294100369ca3",
       "version_major": 2,
       "version_minor": 0
      },
      "text/plain": [
       "VBox(children=(HBox(children=(VBox(children=(Label(value='Labeled Video'), Label(value='Unlabeled Video'))), V…"
      ]
     },
     "metadata": {},
     "output_type": "display_data"
    }
   ],
   "source": [
    "save_path = '/data/extract-frames_2020-08-04'\n",
    "\n",
    "frame_extractor.run(\n",
    "    labeled_path_initial_value = '/repos/gs/rat-emotion/dlc/analyzed-videos/2020-07-25_DLC_resnet50_MousePoseJul21shuffle1_1030000/rat1-control1DLC_resnet50_MousePoseJul21shuffle1_1030000_labeled.mp4',\n",
    "    unlabeled_path_initial_value = '/repos/gs/rat-emotion/videos/24fps/rat1-control1.mp4',\n",
    "    save_path_initial_value = save_path\n",
    ")"
   ]
  },
  {
   "cell_type": "markdown",
   "metadata": {},
   "source": [
    "# Upload Frames"
   ]
  },
  {
   "cell_type": "code",
   "execution_count": null,
   "metadata": {},
   "outputs": [],
   "source": [
    "! gsutil cp -r {save_path}/* gs://rat-emotion/dlc/frames-to-label/2020-06-26"
   ]
  },
  {
   "cell_type": "code",
   "execution_count": 36,
   "metadata": {},
   "outputs": [
    {
     "name": "stdout",
     "output_type": "stream",
     "text": [
      "gs://rat-emotion/dlc/frames-to-label/2020-06-26/\n",
      "gs://rat-emotion/dlc/frames-to-label/2020-07-21/\n"
     ]
    }
   ],
   "source": [
    "! gsutil ls gs://rat-emotion/dlc/frames-to-label"
   ]
  }
 ],
 "metadata": {
  "kernelspec": {
   "display_name": "DLC-GPU",
   "language": "python",
   "name": "dlc-gpu"
  },
  "language_info": {
   "codemirror_mode": {
    "name": "ipython",
    "version": 3
   },
   "file_extension": ".py",
   "mimetype": "text/x-python",
   "name": "python",
   "nbconvert_exporter": "python",
   "pygments_lexer": "ipython3",
   "version": "3.7.7"
  }
 },
 "nbformat": 4,
 "nbformat_minor": 4
}
